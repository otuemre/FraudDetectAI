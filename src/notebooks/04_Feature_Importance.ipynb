{
 "cells": [
  {
   "cell_type": "markdown",
   "id": "baa46b12-fb87-4727-87e5-5207adbdbf69",
   "metadata": {},
   "source": [
    "# Feature Importance Analysis with SHAP\n",
    "\n",
    "## Why Feature Importance?\n",
    "Understanding **which features contribute most to fraud detection** helps us:\n",
    "- **Improve model interpretability** → See how XGBoost makes decisions.\n",
    "- **Detect potential biases** → Ensure the model isn't overfitting to irrelevant features.\n",
    "- **Optimize feature selection** → Identify the most impactful variables.\n",
    "\n",
    "## What We Will Do:\n",
    "1. **Calculate SHAP (SHapley Additive Explanations) values** for the best XGBoost model.  \n",
    "2. **Visualize feature importance** using SHAP summary plots.  \n",
    "3. **Analyze individual feature effects** to understand how each variable impacts fraud detection.  \n",
    "4. **Check for potential overfitting** by inspecting feature dependencies.\n",
    "\n",
    "By the end of this notebook, we’ll determine **which features truly drive fraud predictions** and if our model relies too much on certain variables."
   ]
  },
  {
   "cell_type": "markdown",
   "id": "40718f3a-0e13-4239-ad33-4e1838b616c7",
   "metadata": {},
   "source": [
    "**Imports**:"
   ]
  },
  {
   "cell_type": "code",
   "execution_count": 3,
   "id": "b032e50a-0e7d-457a-b8bf-c05c45ff6064",
   "metadata": {},
   "outputs": [
    {
     "name": "stdout",
     "output_type": "stream",
     "text": [
      "All libraries imported successfully!\n"
     ]
    }
   ],
   "source": [
    "# Data Handling & Visualization\n",
    "import pandas as pd\n",
    "import numpy as np\n",
    "import matplotlib.pyplot as plt\n",
    "import seaborn as sns\n",
    "\n",
    "# Machine Learning\n",
    "import shap\n",
    "import joblib\n",
    "from sklearn.model_selection import train_test_split\n",
    "\n",
    "# Suppress warnings for cleaner output\n",
    "import warnings\n",
    "warnings.filterwarnings(\"ignore\")\n",
    "\n",
    "print(\"All libraries imported successfully!\")"
   ]
  },
  {
   "cell_type": "markdown",
   "id": "e0b18c7e-8303-44fb-915b-e038e47ce9c0",
   "metadata": {},
   "source": [
    "**Load the Best Performing Model**:"
   ]
  },
  {
   "cell_type": "code",
   "execution_count": 2,
   "id": "28fcc918-f73a-443f-a310-530a17938e1d",
   "metadata": {},
   "outputs": [
    {
     "name": "stdout",
     "output_type": "stream",
     "text": [
      "Best XGBoost model loaded successfully!\n"
     ]
    }
   ],
   "source": [
    "# Define model path\n",
    "model_path = \"../models/optimized_base_xgb.pkl\"\n",
    "\n",
    "# Load the best XGBoost model\n",
    "best_model = joblib.load(model_path)\n",
    "\n",
    "print(\"Best XGBoost model loaded successfully!\")"
   ]
  },
  {
   "cell_type": "markdown",
   "id": "86ef06bb-0ec2-4f90-a7bb-91632b293ad3",
   "metadata": {},
   "source": [
    "**Load the Dataset**:"
   ]
  },
  {
   "cell_type": "code",
   "execution_count": 4,
   "id": "3dd32961-27ce-42a9-b910-257118cb9ac3",
   "metadata": {},
   "outputs": [
    {
     "name": "stdout",
     "output_type": "stream",
     "text": [
      "Data loaded and splitted successfully!\n"
     ]
    }
   ],
   "source": [
    "# Load the full dataset\n",
    "X = pd.read_csv(\"../datasets/X_scaled.csv\")\n",
    "y = pd.read_csv(\"../datasets/y.csv\")\n",
    "\n",
    "# Split into train & test\n",
    "X_train, X_test, y_train, y_test = train_test_split(X, y, test_size=0.2, random_state=42, stratify=y)\n",
    "\n",
    "print(\"Data loaded and splitted successfully!\")"
   ]
  },
  {
   "cell_type": "markdown",
   "id": "9157a06f-449f-41e0-b18f-3dc103473496",
   "metadata": {},
   "source": [
    "**SHAP Analysis**:"
   ]
  },
  {
   "cell_type": "code",
   "execution_count": 5,
   "id": "cab3b2d4-05bc-47c3-a5a8-03f264f2a9b4",
   "metadata": {},
   "outputs": [
    {
     "name": "stderr",
     "output_type": "stream",
     "text": [
      "100%|===================| 56937/56962 [09:32<00:00]        "
     ]
    },
    {
     "name": "stdout",
     "output_type": "stream",
     "text": [
      "SHAP values computed successfully!\n"
     ]
    }
   ],
   "source": [
    "# Initialize SHAP Explainer\n",
    "explainer = shap.Explainer(best_model, X_test)\n",
    "\n",
    "# Compute SHAP values\n",
    "shap_values = explainer(X_test)\n",
    "\n",
    "print(\"SHAP values computed successfully!\")"
   ]
  },
  {
   "cell_type": "code",
   "execution_count": null,
   "id": "c2f8e21b-cd09-461b-ab17-95590d50c571",
   "metadata": {},
   "outputs": [],
   "source": []
  }
 ],
 "metadata": {
  "kernelspec": {
   "display_name": "Python 3 (ipykernel)",
   "language": "python",
   "name": "python3"
  },
  "language_info": {
   "codemirror_mode": {
    "name": "ipython",
    "version": 3
   },
   "file_extension": ".py",
   "mimetype": "text/x-python",
   "name": "python",
   "nbconvert_exporter": "python",
   "pygments_lexer": "ipython3",
   "version": "3.10.0"
  }
 },
 "nbformat": 4,
 "nbformat_minor": 5
}
