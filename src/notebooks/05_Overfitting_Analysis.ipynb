{
 "cells": [
  {
   "cell_type": "markdown",
   "id": "9b4e84a3-2560-4262-a097-ce5335acfef7",
   "metadata": {},
   "source": [
    "# Overfitting Analysis - FraudDetectAI\n",
    "\n",
    "## Understanding Model Generalization\n",
    "\n",
    "Overfitting occurs when a model **performs exceptionally well on training data** but fails to generalize to unseen data.  \n",
    "Since our dataset is highly imbalanced and we applied **SMOTE**, there is a chance that some models may have **memorized synthetic data** rather than learning actual fraud patterns.\n",
    "\n",
    "---\n",
    "\n",
    "## **Objectives of This Notebook**\n",
    "- Compare **training vs. test performance** to detect overfitting.  \n",
    "- Visualize **learning curves** for potential divergence between train & validation loss.  \n",
    "- Analyze **feature importance stability** (does SMOTE make the model over-rely on certain features?).  \n",
    "- Decide whether to **adjust the SMOTE ratio** or introduce **undersampling**.\n",
    "\n",
    "---\n",
    "\n",
    "## **Steps We Will Cover**\n",
    "1. **Compare Train vs. Test Performance** → Precision, Recall, F1-score, AUC-ROC  \n",
    "2. **Plot Learning Curves** → Check whether the model is overfitting  \n",
    "3. **Feature Importance Stability Check** → Compare SHAP values across datasets  \n",
    "4. **Decision on SMOTE Adjustments** → Reduce synthetic samples? Add undersampling?  "
   ]
  },
  {
   "cell_type": "markdown",
   "id": "8532dc14-0d38-47da-835d-4d4c1fa90b67",
   "metadata": {},
   "source": [
    "**Imports**:"
   ]
  },
  {
   "cell_type": "code",
   "execution_count": 3,
   "id": "ba5c4e5a-d3da-4bb9-9570-788ff94b88a4",
   "metadata": {},
   "outputs": [],
   "source": [
    "# Data Handling\n",
    "import pandas as pd\n",
    "import numpy as np\n",
    "\n",
    "# Visualization\n",
    "import matplotlib.pyplot as plt\n",
    "import seaborn as sns\n",
    "\n",
    "# Model Evaluation\n",
    "from sklearn.metrics import roc_auc_score, precision_score, recall_score, f1_score, confusion_matrix\n",
    "from sklearn.model_selection import train_test_split\n",
    "\n",
    "# SHAP for Explainability\n",
    "import shap\n",
    "\n",
    "# Load Saved Models\n",
    "import joblib"
   ]
  },
  {
   "cell_type": "markdown",
   "id": "61dce3a6-1c3a-4872-99ef-fa5aaea0f338",
   "metadata": {},
   "source": [
    "**Data Preparation**:"
   ]
  },
  {
   "cell_type": "code",
   "execution_count": 4,
   "id": "8acdd357-8ce8-4a71-91ed-9cb70b1ae24f",
   "metadata": {},
   "outputs": [],
   "source": [
    "# Load normal dataset\n",
    "X = pd.read_csv(\"../datasets/X_scaled.csv\")\n",
    "y = pd.read_csv(\"../datasets/y.csv\")\n",
    "\n",
    "# Load SMOTE dataset\n",
    "X_smote = pd.read_csv(\"../datasets/X_smote.csv\")\n",
    "y_smote = pd.read_csv(\"../datasets/y_smote.csv\")\n",
    "\n",
    "# Perform Train-Test Split (for Base & Weighted models)\n",
    "X_train, X_test, y_train, y_test = train_test_split(X, y, test_size=0.2, random_state=42, stratify=y)\n",
    "\n",
    "# Perform Train-Test Split (for SMOTE model)\n",
    "X_train_smote, _, y_train_smote, _ = train_test_split(X_smote, y_smote, test_size=0.2, random_state=42, stratify=y_smote)\n",
    "\n",
    "# X_test_smote should be the same as X_test (we don't oversample test data)\n",
    "X_test_smote, y_test_smote = X_test, y_test"
   ]
  },
  {
   "cell_type": "markdown",
   "id": "c3171a4a-909d-4fda-846c-b114e2f75dd8",
   "metadata": {},
   "source": [
    "**Model Load**:"
   ]
  },
  {
   "cell_type": "code",
   "execution_count": 5,
   "id": "f9294f88-51ac-43c3-bffb-5a57c6131985",
   "metadata": {},
   "outputs": [
    {
     "name": "stdout",
     "output_type": "stream",
     "text": [
      "Models are loaded successfully.\n"
     ]
    }
   ],
   "source": [
    "# Load trained models\n",
    "base_xgb_opt = joblib.load(\"../models/optimized_base_xgb.pkl\")\n",
    "weighted_xgb_opt = joblib.load(\"../models/optimized_weighted_xgb.pkl\")\n",
    "smote_xgb_opt = joblib.load(\"../models/optimized_smote_xgb.pkl\")\n",
    "\n",
    "print(\"Models are loaded successfully.\")"
   ]
  },
  {
   "cell_type": "code",
   "execution_count": null,
   "id": "c76301de-ff9e-4669-8707-fc5bed14867e",
   "metadata": {},
   "outputs": [],
   "source": []
  }
 ],
 "metadata": {
  "kernelspec": {
   "display_name": "Python 3 (ipykernel)",
   "language": "python",
   "name": "python3"
  },
  "language_info": {
   "codemirror_mode": {
    "name": "ipython",
    "version": 3
   },
   "file_extension": ".py",
   "mimetype": "text/x-python",
   "name": "python",
   "nbconvert_exporter": "python",
   "pygments_lexer": "ipython3",
   "version": "3.10.0"
  }
 },
 "nbformat": 4,
 "nbformat_minor": 5
}
