{
 "cells": [
  {
   "cell_type": "markdown",
   "id": "f0138105-9c18-41e4-a40d-04f0a29654ab",
   "metadata": {},
   "source": [
    "# Model Training - Fraud Detection with XGBoost\n",
    "\n",
    "In this notebook, we will train and evaluate **machine learning models** for credit card fraud detection.\n",
    "\n",
    "## **Steps We Will Cover**\n",
    "1. **Load Preprocessed Data** → Use **both** the original & SMOTE-balanced datasets.  \n",
    "2. **Train-Test Split** → Prepare data for model training.  \n",
    "3. **Train Baseline XGBoost Model** → Evaluate initial performance.  \n",
    "4. **Optimize Model Performance** → Use **Optuna** for hyperparameter tuning.  \n",
    "5. **Evaluate Model Performance** → Check metrics like **AUC-ROC, Precision-Recall**.\n",
    "\n",
    "Our goal is to **build an accurate fraud detection system** while handling the **highly imbalanced dataset** properly."
   ]
  },
  {
   "cell_type": "markdown",
   "id": "6a0a4bfa-7447-4263-a5a9-829ffab3fab2",
   "metadata": {},
   "source": [
    "## Import Necessary Libraries\n",
    "\n",
    "Before training our models, we first import essential libraries for:\n",
    "- **Data Handling & Processing** → `pandas`, `numpy`\n",
    "- **Model Training** → `XGBoost`, `Scikit-Learn`\n",
    "- **Hyperparameter Optimization** → `Optuna`\n",
    "- **Evaluation Metrics** → `classification_report`, `roc_auc_score`"
   ]
  },
  {
   "cell_type": "code",
   "execution_count": 14,
   "id": "b7cecdb8-c6f0-44a0-8991-52432b25f3f1",
   "metadata": {},
   "outputs": [],
   "source": [
    "# Data Handling\n",
    "import pandas as pd\n",
    "import numpy as np\n",
    "\n",
    "# Machine Learning Models\n",
    "import xgboost as xgb\n",
    "from xgboost import XGBClassifier\n",
    "\n",
    "# Model Selection & Evaluation\n",
    "from sklearn.model_selection import train_test_split\n",
    "from sklearn.metrics import classification_report, roc_auc_score, precision_recall_curve, auc\n",
    "from sklearn.metrics import precision_score, recall_score, f1_score, roc_auc_score, confusion_matrix, roc_curve, precision_recall_curve\n",
    "\n",
    "# Hyperparameter Optimization\n",
    "import optuna\n",
    "\n",
    "# Visualization\n",
    "import matplotlib.pyplot as plt\n",
    "import seaborn as sns"
   ]
  },
  {
   "cell_type": "markdown",
   "id": "ddc9bc33-bb47-49ef-82ed-a95afa016cdc",
   "metadata": {},
   "source": [
    "## Load Preprocessed Data & Train-Test Split\n",
    "\n",
    "To train our fraud detection model, we will:\n",
    "1. **Load the preprocessed datasets**:\n",
    "   - `X_scaled.csv` → Scaled but imbalanced dataset.\n",
    "   - `X_smote.csv` → SMOTE-balanced dataset.\n",
    "2. **Perform Train-Test Split**:\n",
    "   - **80% training, 20% testing**.\n",
    "   - Ensure data is shuffled properly before training."
   ]
  },
  {
   "cell_type": "code",
   "execution_count": 2,
   "id": "2502952a-b037-4279-8eaf-cf0c6a80feb3",
   "metadata": {},
   "outputs": [
    {
     "name": "stdout",
     "output_type": "stream",
     "text": [
      "Original Dataset Shape:\n",
      "Train: (227845, 30), Test: (56962, 30)\n",
      "\n",
      "SMOTE Dataset Shape:\n",
      "Train: (454904, 30), Test: (113726, 30)\n"
     ]
    }
   ],
   "source": [
    "# Load preprocessed datasets\n",
    "X_scaled = pd.read_csv(\"../datasets/X_scaled.csv\")\n",
    "y = pd.read_csv(\"../datasets/y.csv\")\n",
    "\n",
    "X_smote = pd.read_csv(\"../datasets/X_smote.csv\")\n",
    "y_smote = pd.read_csv(\"../datasets/y_smote.csv\")\n",
    "\n",
    "# Ensure y is a 1D array (avoid shape issues)\n",
    "y = y.values.ravel()\n",
    "y_smote = y_smote.values.ravel()\n",
    "\n",
    "# Train-Test Split (80% train, 20% test)\n",
    "X_train, X_test, y_train, y_test = train_test_split(X_scaled, y, test_size=0.2, random_state=42, stratify=y)\n",
    "X_train_smote, X_test_smote, y_train_smote, y_test_smote = train_test_split(X_smote, y_smote, test_size=0.2, random_state=42, stratify=y_smote)\n",
    "\n",
    "# Display dataset shapes\n",
    "print(\"Original Dataset Shape:\")\n",
    "print(f\"Train: {X_train.shape}, Test: {X_test.shape}\")\n",
    "\n",
    "print(\"\\nSMOTE Dataset Shape:\")\n",
    "print(f\"Train: {X_train_smote.shape}, Test: {X_test_smote.shape}\")"
   ]
  },
  {
   "cell_type": "markdown",
   "id": "02d50fff-d2cf-481f-a28b-90d47f29afd5",
   "metadata": {},
   "source": [
    "## Training Three XGBoost Models\n",
    "\n",
    "To compare different approaches, we will train three XGBoost models:\n",
    "\n",
    "️1. **Base XGBoost Model** → Trained on the **original imbalanced dataset** without any adjustments.  \n",
    "2. **Weighted XGBoost Model** → Trained on the **original dataset**, but with **higher penalty for misclassifying fraud cases** using `scale_pos_weight`.  \n",
    "3. **SMOTE XGBoost Model** → Trained on the **SMOTE-balanced dataset**, where fraud cases are oversampled to match non-fraud cases.  \n",
    "\n",
    "This will help us determine:\n",
    "- Whether **handling imbalance improves fraud detection**.  \n",
    "- Whether **penalizing fraud misclassification improves model focus**.  \n",
    "- Which **approach provides the best overall fraud detection performance**.  "
   ]
  },
  {
   "cell_type": "code",
   "execution_count": 11,
   "id": "8c8c472e-6649-4e4c-b9a1-53368a4f3625",
   "metadata": {},
   "outputs": [
    {
     "name": "stdout",
     "output_type": "stream",
     "text": [
      "Base XGBoost Model Performance:\n",
      "              precision    recall  f1-score   support\n",
      "\n",
      "           0       1.00      1.00      1.00     56864\n",
      "           1       0.89      0.81      0.84        98\n",
      "\n",
      "    accuracy                           1.00     56962\n",
      "   macro avg       0.94      0.90      0.92     56962\n",
      "weighted avg       1.00      1.00      1.00     56962\n",
      "\n",
      "AUC-ROC Score: 0.9030\n"
     ]
    }
   ],
   "source": [
    "# Initialize Base XGBoost Model\n",
    "base_xgb = XGBClassifier(objective=\"binary:logistic\", eval_metric=\"logloss\", random_state=42, device='gpu')\n",
    "\n",
    "# Train on imbalanced dataset\n",
    "base_xgb.fit(X_train, y_train)\n",
    "\n",
    "# Make predictions\n",
    "y_pred_base = base_xgb.predict(X_test)\n",
    "\n",
    "# Evaluate model\n",
    "print(\"Base XGBoost Model Performance:\")\n",
    "print(classification_report(y_test, y_pred_base))\n",
    "print(f\"AUC-ROC Score: {roc_auc_score(y_test, y_pred_base):.4f}\")"
   ]
  },
  {
   "cell_type": "code",
   "execution_count": 12,
   "id": "e73e800e-c722-4907-972c-b2c30520b947",
   "metadata": {},
   "outputs": [
    {
     "name": "stdout",
     "output_type": "stream",
     "text": [
      "Weighted XGBoost Model Performance (Higher Fraud Penalty):\n",
      "              precision    recall  f1-score   support\n",
      "\n",
      "           0       1.00      1.00      1.00     56864\n",
      "           1       0.88      0.83      0.85        98\n",
      "\n",
      "    accuracy                           1.00     56962\n",
      "   macro avg       0.94      0.91      0.93     56962\n",
      "weighted avg       1.00      1.00      1.00     56962\n",
      "\n",
      "AUC-ROC Score: 0.9132\n"
     ]
    }
   ],
   "source": [
    "# Calculate the imbalance ratio (weighting fraud more)\n",
    "fraud_weight = len(y_train) / sum(y_train)  # Gives more weight to minority class\n",
    "\n",
    "# Initialize Weighted XGBoost Model\n",
    "weighted_xgb = XGBClassifier(objective=\"binary:logistic\", eval_metric=\"logloss\", scale_pos_weight=fraud_weight, random_state=42, device=\"gpu\")\n",
    "\n",
    "# Train with class weighting\n",
    "weighted_xgb.fit(X_train, y_train)\n",
    "\n",
    "# Make predictions\n",
    "y_pred_weighted = weighted_xgb.predict(X_test)\n",
    "\n",
    "# Evaluate model\n",
    "print(\"Weighted XGBoost Model Performance (Higher Fraud Penalty):\")\n",
    "print(classification_report(y_test, y_pred_weighted))\n",
    "print(f\"AUC-ROC Score: {roc_auc_score(y_test, y_pred_weighted):.4f}\")"
   ]
  },
  {
   "cell_type": "code",
   "execution_count": 13,
   "id": "728b392f-69a4-47c8-9f2f-cf5cd7fe142e",
   "metadata": {},
   "outputs": [
    {
     "name": "stdout",
     "output_type": "stream",
     "text": [
      "SMOTE XGBoost Model Performance:\n",
      "              precision    recall  f1-score   support\n",
      "\n",
      "           0       1.00      1.00      1.00     56863\n",
      "           1       1.00      1.00      1.00     56863\n",
      "\n",
      "    accuracy                           1.00    113726\n",
      "   macro avg       1.00      1.00      1.00    113726\n",
      "weighted avg       1.00      1.00      1.00    113726\n",
      "\n",
      "AUC-ROC Score: 0.9996\n"
     ]
    }
   ],
   "source": [
    "# Initialize SMOTE XGBoost Model\n",
    "smote_xgb = XGBClassifier(objective=\"binary:logistic\", eval_metric=\"logloss\", random_state=42, device=\"gpu\")\n",
    "\n",
    "# Train on SMOTE-balanced dataset\n",
    "smote_xgb.fit(X_train_smote, y_train_smote)\n",
    "\n",
    "# Make predictions\n",
    "y_pred_smote = smote_xgb.predict(X_test_smote)\n",
    "\n",
    "# Evaluate model\n",
    "print(\"SMOTE XGBoost Model Performance:\")\n",
    "print(classification_report(y_test_smote, y_pred_smote))\n",
    "print(f\"AUC-ROC Score: {roc_auc_score(y_test_smote, y_pred_smote):.4f}\")\n"
   ]
  },
  {
   "cell_type": "markdown",
   "id": "39fa15c9-4987-47fe-bcb1-954d58406c55",
   "metadata": {},
   "source": [
    "## Model Performance Comparison\n",
    "\n",
    "After training three different XGBoost models, we can compare their effectiveness in fraud detection.\n",
    "\n",
    "| Model | Precision (Fraud) | Recall (Fraud) | F1-Score (Fraud) | AUC-ROC Score |\n",
    "|---|---|---|---|---|\n",
    "| **Base XGBoost** | **0.89** | **0.81** | **0.84** | **0.9030** |\n",
    "| **Weighted XGBoost (Higher Fraud Penalty)** | **0.88** | **0.83** | **0.85** | **0.9132** |\n",
    "| **SMOTE XGBoost** | **1.00** | **1.00** | **1.00** | **0.9996** |\n",
    "\n",
    "### **Observations**\n",
    "- **Base XGBoost Model** performed well but had slightly **lower recall (81%)**, meaning it **missed** some fraud cases.\n",
    "- **Weighted XGBoost Model** (higher fraud misclassification penalty) **slightly improved recall (83%)**, making it **better at detecting fraud** while maintaining high precision.\n",
    "- **SMOTE XGBoost Model** achieved **perfect scores**, but this is likely **overfitting**, as the dataset was fully balanced by oversampling fraud cases.\n",
    "\n",
    "### **Key Takeaways**\n",
    "✔ **Weighted XGBoost improved recall while maintaining precision** → A better model for fraud detection.  \n",
    "✔ **SMOTE Model may be overfitting** due to the perfectly balanced dataset.  \n",
    "✔ **Base Model is strong but could miss some fraud cases** (lower recall).  \n",
    "\n",
    "### **Next Steps**\n",
    "1. **Use SHAP for feature importance analysis** → Understand which features impact predictions.  \n",
    "2. **Hyperparameter tuning with Optuna** → Improve model performance further.  \n",
    "3. **Final model selection** → Choose the best approach for real-world fraud detection."
   ]
  },
  {
   "cell_type": "markdown",
   "id": "c2323fd4-355a-4f8a-aa6e-125c9987a32d",
   "metadata": {},
   "source": [
    "# Model Evaluation & Comparison\n",
    "\n",
    "Now that we have trained three different XGBoost models, we will:\n",
    "- **Evaluate key performance metrics** (Precision, Recall, F1-Score, AUC-ROC).\n",
    "- **Visualize model effectiveness** with confusion matrices, Precision-Recall curves, and ROC curves.\n",
    "- **Compare models in a structured way** to determine the best approach for fraud detection."
   ]
  },
  {
   "cell_type": "markdown",
   "id": "07dfbd3d-8902-4a21-93f3-d7af0c1697cd",
   "metadata": {},
   "source": [
    "**Functions**:"
   ]
  },
  {
   "cell_type": "code",
   "execution_count": 25,
   "id": "9a8cb873-53a7-498f-a80f-805f6bf11358",
   "metadata": {},
   "outputs": [],
   "source": [
    "# Function to evaluate model performance\n",
    "def evaluate_model(y_true, y_pred, model_name):\n",
    "    precision = precision_score(y_true, y_pred)\n",
    "    recall = recall_score(y_true, y_pred)\n",
    "    f1 = f1_score(y_true, y_pred)\n",
    "    auc_roc = roc_auc_score(y_true, y_pred)\n",
    "    \n",
    "    return {\"Model\": model_name, \"Precision\": precision, \"Recall\": recall, \"F1-Score\": f1, \"AUC-ROC\": auc_roc}"
   ]
  },
  {
   "cell_type": "code",
   "execution_count": 34,
   "id": "2ae25de5-cd66-49e5-8c2b-05458cfdff07",
   "metadata": {},
   "outputs": [],
   "source": [
    "def plot_confusion_matrices(y_true_list, y_pred_list, model_names, save_path=None):\n",
    "    fig, axes = plt.subplots(1, 3, figsize=(15, 5))\n",
    "    \n",
    "    for i, (y_true, y_pred, model_name) in enumerate(zip(y_true_list, y_pred_list, model_names)):\n",
    "        cm = confusion_matrix(y_true, y_pred)\n",
    "        sns.heatmap(cm, annot=True, fmt=\"d\", cmap=\"Blues\", xticklabels=[\"Non-Fraud\", \"Fraud\"], yticklabels=[\"Non-Fraud\", \"Fraud\"], ax=axes[i])\n",
    "        axes[i].set_title(f\"{model_name} Confusion Matrix\")\n",
    "        axes[i].set_xlabel(\"Predicted Label\")\n",
    "        axes[i].set_ylabel(\"True Label\")\n",
    "\n",
    "    plt.tight_layout()\n",
    "    \n",
    "    # Save the plot if a path is provided\n",
    "    if save_path:\n",
    "        plt.savefig(save_path, dpi=300)\n",
    "        print(f\"Confusion matrix saved at: {save_path}\")\n",
    "\n",
    "    plt.show()"
   ]
  },
  {
   "cell_type": "code",
   "execution_count": 35,
   "id": "8709ec38-4ec0-459f-a9e1-78f8703b2ec9",
   "metadata": {},
   "outputs": [],
   "source": [
    "def plot_precision_recall_curves(y_true_list, y_pred_probs_list, model_names, save_path=None):\n",
    "    plt.figure(figsize=(8, 6))\n",
    "\n",
    "    for y_true, y_pred_probs, model_name in zip(y_true_list, y_pred_probs_list, model_names):\n",
    "        precision, recall, _ = precision_recall_curve(y_true, y_pred_probs)\n",
    "        plt.plot(recall, precision, label=f\"{model_name}\")\n",
    "\n",
    "    plt.xlabel(\"Recall\")\n",
    "    plt.ylabel(\"Precision\")\n",
    "    plt.title(\"Precision-Recall Curve\")\n",
    "    plt.legend()\n",
    "\n",
    "    # Save the plot if a path is provided\n",
    "    if save_path:\n",
    "        plt.savefig(save_path, dpi=300)\n",
    "        print(f\"Precision-Recall curve saved at: {save_path}\")\n",
    "\n",
    "    plt.show()"
   ]
  },
  {
   "cell_type": "code",
   "execution_count": 36,
   "id": "e475e83c-00a9-4d7b-bf8e-6e23cfeaf452",
   "metadata": {},
   "outputs": [],
   "source": [
    "def plot_roc_curves(y_true_list, y_pred_probs_list, model_names, save_path=None):\n",
    "    plt.figure(figsize=(8, 6))\n",
    "\n",
    "    for y_true, y_pred_probs, model_name in zip(y_true_list, y_pred_probs_list, model_names):\n",
    "        fpr, tpr, _ = roc_curve(y_true, y_pred_probs)\n",
    "        plt.plot(fpr, tpr, label=f\"{model_name} (AUC={roc_auc_score(y_true, y_pred_probs):.4f})\")\n",
    "\n",
    "    plt.xlabel(\"False Positive Rate\")\n",
    "    plt.ylabel(\"True Positive Rate\")\n",
    "    plt.title(\"ROC Curve\")\n",
    "    plt.legend()\n",
    "\n",
    "    # Save the plot if a path is provided\n",
    "    if save_path:\n",
    "        plt.savefig(save_path, dpi=300)\n",
    "        print(f\"ROC curve saved at: {save_path}\")\n",
    "\n",
    "    plt.show()"
   ]
  },
  {
   "cell_type": "markdown",
   "id": "b4b8538c-9c47-4bb3-8ec1-17e3145c47c9",
   "metadata": {},
   "source": [
    "**Evaluation Data Preperation**:"
   ]
  },
  {
   "cell_type": "code",
   "execution_count": 39,
   "id": "569847c6-a0e1-43cb-8889-4c767c9ae076",
   "metadata": {},
   "outputs": [],
   "source": [
    "# List of true and predicted values\n",
    "y_true_list = [y_test, y_test, y_test_smote]\n",
    "y_pred_list = [y_pred_base, y_pred_weighted, y_pred_smote]\n",
    "model_names = [\"Base XGBoost\", \"Weighted XGBoost\", \"SMOTE XGBoost\"]\n",
    "\n",
    "# Get predicted probabilities\n",
    "y_pred_probs_base = base_xgb.predict_proba(X_test)[:, 1]\n",
    "y_pred_probs_weighted = weighted_xgb.predict_proba(X_test)[:, 1]\n",
    "y_pred_probs_smote = smote_xgb.predict_proba(X_test_smote)[:, 1]"
   ]
  },
  {
   "cell_type": "markdown",
   "id": "766d708e-a5f9-4d7b-9529-ba059d9dbd6f",
   "metadata": {},
   "source": [
    "**Evaluate Models**:"
   ]
  },
  {
   "cell_type": "code",
   "execution_count": 40,
   "id": "9a5a11bd-10ee-46d4-8c7e-ed21ac3f7bda",
   "metadata": {},
   "outputs": [
    {
     "data": {
      "text/html": [
       "<div>\n",
       "<style scoped>\n",
       "    .dataframe tbody tr th:only-of-type {\n",
       "        vertical-align: middle;\n",
       "    }\n",
       "\n",
       "    .dataframe tbody tr th {\n",
       "        vertical-align: top;\n",
       "    }\n",
       "\n",
       "    .dataframe thead th {\n",
       "        text-align: right;\n",
       "    }\n",
       "</style>\n",
       "<table border=\"1\" class=\"dataframe\">\n",
       "  <thead>\n",
       "    <tr style=\"text-align: right;\">\n",
       "      <th></th>\n",
       "      <th>Model</th>\n",
       "      <th>Precision</th>\n",
       "      <th>Recall</th>\n",
       "      <th>F1-Score</th>\n",
       "      <th>AUC-ROC</th>\n",
       "    </tr>\n",
       "  </thead>\n",
       "  <tbody>\n",
       "    <tr>\n",
       "      <th>0</th>\n",
       "      <td>Base XGBoost</td>\n",
       "      <td>0.8876</td>\n",
       "      <td>0.8061</td>\n",
       "      <td>0.8449</td>\n",
       "      <td>0.9030</td>\n",
       "    </tr>\n",
       "    <tr>\n",
       "      <th>1</th>\n",
       "      <td>Weighted XGBoost</td>\n",
       "      <td>0.8804</td>\n",
       "      <td>0.8265</td>\n",
       "      <td>0.8526</td>\n",
       "      <td>0.9132</td>\n",
       "    </tr>\n",
       "    <tr>\n",
       "      <th>2</th>\n",
       "      <td>SMOTE XGBoost</td>\n",
       "      <td>0.9992</td>\n",
       "      <td>1.0000</td>\n",
       "      <td>0.9996</td>\n",
       "      <td>0.9996</td>\n",
       "    </tr>\n",
       "  </tbody>\n",
       "</table>\n",
       "</div>"
      ],
      "text/plain": [
       "              Model  Precision  Recall  F1-Score  AUC-ROC\n",
       "0      Base XGBoost     0.8876  0.8061    0.8449   0.9030\n",
       "1  Weighted XGBoost     0.8804  0.8265    0.8526   0.9132\n",
       "2     SMOTE XGBoost     0.9992  1.0000    0.9996   0.9996"
      ]
     },
     "metadata": {},
     "output_type": "display_data"
    }
   ],
   "source": [
    "# Evaluate all three models\n",
    "results = []\n",
    "results.append(evaluate_model(y_test, y_pred_base, \"Base XGBoost\"))\n",
    "results.append(evaluate_model(y_test, y_pred_weighted, \"Weighted XGBoost\"))\n",
    "results.append(evaluate_model(y_test_smote, y_pred_smote, \"SMOTE XGBoost\"))\n",
    "\n",
    "# Convert results to DataFrame\n",
    "results_df = pd.DataFrame(results)\n",
    "\n",
    "# Display results table\n",
    "pd.set_option(\"display.float_format\", \"{:.4f}\".format)\n",
    "display(results_df)"
   ]
  },
  {
   "cell_type": "code",
   "execution_count": 41,
   "id": "8c6039fc-b3ab-4642-b2dd-8026509659f1",
   "metadata": {},
   "outputs": [
    {
     "name": "stdout",
     "output_type": "stream",
     "text": [
      "Confusion matrix saved at: ../images/confusion_matrices.png\n"
     ]
    },
    {
     "data": {
      "image/png": "[encoded data removed]",
      "text/plain": [
       "<Figure size 1500x500 with 6 Axes>"
      ]
     },
     "metadata": {},
     "output_type": "display_data"
    }
   ],
   "source": [
    "# Call function and save figure\n",
    "plot_confusion_matrices(y_true_list, y_pred_list, model_names, save_path=\"../images/confusion_matrices.png\")"
   ]
  },
  {
   "cell_type": "code",
   "execution_count": 42,
   "id": "0d2119c1-fcd1-4fc8-aed6-9828f0ce0c8b",
   "metadata": {},
   "outputs": [
    {
     "name": "stdout",
     "output_type": "stream",
     "text": [
      "Precision-Recall curve saved at: ../images/precision_recall_curve.png\n"
     ]
    },
    {
     "data": {
      "image/png": "[encoded data removed]",
      "text/plain": [
       "<Figure size 800x600 with 1 Axes>"
      ]
     },
     "metadata": {},
     "output_type": "display_data"
    }
   ],
   "source": [
    "# Call function and save figure\n",
    "plot_precision_recall_curves(y_true_list, y_pred_probs_list, model_names, save_path=\"../images/precision_recall_curve.png\")"
   ]
  },
  {
   "cell_type": "code",
   "execution_count": 44,
   "id": "323fcc12-0a74-42c4-a0c9-c6ea61a3a7cc",
   "metadata": {},
   "outputs": [
    {
     "name": "stdout",
     "output_type": "stream",
     "text": [
      "ROC curve saved at: ../images/roc_curve.png\n"
     ]
    },
    {
     "data": {
      "image/png": "[encoded data removed]",
      "text/plain": [
       "<Figure size 800x600 with 1 Axes>"
      ]
     },
     "metadata": {},
     "output_type": "display_data"
    }
   ],
   "source": [
    "# Call function and save figure\n",
    "plot_roc_curves(y_true_list, y_pred_probs_list, model_names, save_path=\"../images/roc_curve.png\")"
   ]
  },
  {
   "cell_type": "markdown",
   "id": "5ca3d042-1f1b-42cf-9b70-70a509d4857e",
   "metadata": {},
   "source": [
    "## 📊 Model Evaluation & Visualization\n",
    "\n",
    "After training our XGBoost models, we will **evaluate their performance** using different metrics and visualizations.\n",
    "\n",
    "---\n",
    "\n",
    "### **Create Functions:**\n",
    "We will create **three functions** to help analyze model performance:\n",
    "1. **Confusion Matrix Plot** → Visualizes true vs. predicted classifications.  \n",
    "2. **Precision-Recall Curve** → Shows the trade-off between precision and recall.  \n",
    "3. **ROC Curve** → Measures model effectiveness at different classification thresholds.  \n",
    "\n",
    "Each function will **compare all three models in a single figure** for better visualization.\n",
    "\n",
    "---\n",
    "\n",
    "### **Confusion Matrix:**\n",
    "- **What It Shows:** The number of **correct and incorrect predictions** for fraud and non-fraud cases.  \n",
    "- **Why It’s Useful:** Helps us **identify misclassifications**, especially false negatives (fraud classified as normal).  \n",
    "- **Key Insight:** The **Weighted XGBoost Model** should reduce false negatives more than the Base Model.  \n",
    "- **Saved As:** `\"../images/confusion_matrices.png\"`\n",
    "\n",
    "---\n",
    "\n",
    "### **Precision-Recall Curve:**\n",
    "- **What It Shows:** The balance between **precision (accuracy of fraud predictions)** and **recall (ability to detect fraud)**.  \n",
    "- **Why It’s Useful:** Since fraud is **rare**, a high precision-recall score is more important than accuracy.  \n",
    "- **Key Insight:** The **SMOTE model** may have an advantage due to oversampling, but the **Weighted XGBoost Model** should balance performance better.\n",
    "- **Saved As:** `\"../images/precision_recall_curve.png\"`\n",
    "\n",
    "---\n",
    "\n",
    "### **ROC Curve:**\n",
    "- **What It Shows:** The relationship between **true positive rate (recall)** and **false positive rate** at different thresholds.  \n",
    "- **Why It’s Useful:** AUC-ROC helps compare overall model effectiveness, even when class distributions are imbalanced.  \n",
    "- **Key Insight:** A **higher AUC-ROC score** means the model is better at distinguishing fraud from normal transactions.  \n",
    "- **Saved As:** `\"../images/roc_curve.png\"`\n",
    "\n",
    "---\n",
    "\n",
    "### **Key Takeaways**\n",
    "✔ **Weighted XGBoost improved recall while maintaining precision** → A better model for fraud detection.  \n",
    "✔ **SMOTE Model may be overfitting** due to the perfectly balanced dataset.  \n",
    "✔ **Base Model is strong but could miss some fraud cases** (lower recall).  \n",
    "\n",
    "---\n",
    "\n",
    "### **Next Steps**:\n",
    "️1. **Hyperparameter Tuning with Optuna** → Improve model performance further.  \n",
    "️2. **SHAP Feature Importance Analysis** → Understand which features contribute most to fraud detection.  \n",
    "️3. **Final Model Selection** → Choose the best approach for real-world fraud detection.  "
   ]
  },
  {
   "cell_type": "code",
   "execution_count": null,
   "id": "d85331e8-4463-487c-95ec-0885a75ac27a",
   "metadata": {},
   "outputs": [],
   "source": []
  }
 ],
 "metadata": {
  "kernelspec": {
   "display_name": "Python 3 (ipykernel)",
   "language": "python",
   "name": "python3"
  },
  "language_info": {
   "codemirror_mode": {
    "name": "ipython",
    "version": 3
   },
   "file_extension": ".py",
   "mimetype": "text/x-python",
   "name": "python",
   "nbconvert_exporter": "python",
   "pygments_lexer": "ipython3",
   "version": "3.10.0"
  }
 },
 "nbformat": 4,
 "nbformat_minor": 5
}
