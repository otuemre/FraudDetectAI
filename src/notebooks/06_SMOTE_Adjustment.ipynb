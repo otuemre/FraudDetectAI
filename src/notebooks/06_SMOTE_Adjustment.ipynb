{
 "cells": [
  {
   "cell_type": "markdown",
   "id": "ee00f1a3-8714-45f6-8f47-d556ddbe5fd8",
   "metadata": {},
   "source": [
    "# **06 - SMOTE Adjustment & Hybrid Resampling**\n",
    "\n",
    "## **Objective**\n",
    "In this notebook, we aim to **address the overfitting issue** found in the **SMOTE XGBoost model** by adjusting the **SMOTE ratio** and experimenting with **hybrid resampling techniques**.\n",
    "\n",
    "---\n",
    "\n",
    "## **Why Are We Doing This?**\n",
    "From our **overfitting analysis (Notebook 05)**, we observed that:\n",
    "- **SMOTE XGBoost achieved perfect recall (100%)**, but its precision dropped significantly.\n",
    "- The **learning curve showed minimal generalization gap**, suggesting an **overfitted model**.\n",
    "- Since **SMOTE generates synthetic fraud cases**, it might have **introduced unrealistic patterns**, making the model **too confident**.\n",
    "\n",
    "---\n",
    "\n",
    "## **What We Will Do**\n",
    "1. **Reduce the SMOTE Ratio** → Instead of a strict **1:1 balance**, try **7:3 or 8:2**.\n",
    "2. **Re-train & Evaluate New SMOTE Models** → Check if we reduce overfitting while maintaining good recall.\n",
    "\n",
    "---\n",
    "\n",
    "## **Final Goal**\n",
    "- **Find the best SMOTE ratio** that balances **generalization and recall**.\n",
    "- **Prepare a final resampled dataset** that will be used for model training."
   ]
  },
  {
   "cell_type": "markdown",
   "id": "2cd64de1-490c-4302-a9a0-9c3782a3e813",
   "metadata": {},
   "source": [
    "**Imports**:"
   ]
  },
  {
   "cell_type": "code",
   "execution_count": 42,
   "id": "f05c1f6c-2c93-4993-8356-47a2b0510939",
   "metadata": {},
   "outputs": [
    {
     "name": "stdout",
     "output_type": "stream",
     "text": [
      "All libraries imported successfully!\n"
     ]
    }
   ],
   "source": [
    "# Standard libraries\n",
    "import numpy as np\n",
    "import pandas as pd\n",
    "\n",
    "# Visualization\n",
    "import matplotlib.pyplot as plt\n",
    "import seaborn as sns\n",
    "\n",
    "# Data Preprocessing\n",
    "from sklearn.model_selection import train_test_split\n",
    "from imblearn.over_sampling import SMOTE\n",
    "from imblearn.under_sampling import RandomUnderSampler\n",
    "\n",
    "# Model\n",
    "from xgboost import XGBClassifier\n",
    "import joblib\n",
    "\n",
    "# Model Evaluation Metrics\n",
    "from sklearn.metrics import classification_report, roc_auc_score, confusion_matrix, precision_recall_curve, roc_curve\n",
    "\n",
    "# Warnings\n",
    "import warnings\n",
    "warnings.filterwarnings(\"ignore\")\n",
    "\n",
    "print(\"All libraries imported successfully!\")"
   ]
  },
  {
   "cell_type": "markdown",
   "id": "a997c455-798d-47cd-a1d1-be622e1ad8d9",
   "metadata": {},
   "source": [
    "**Dataset Preparation**:"
   ]
  },
  {
   "cell_type": "code",
   "execution_count": 2,
   "id": "aa077579-c62f-43b9-ba2d-6dddc38f30c7",
   "metadata": {},
   "outputs": [
    {
     "name": "stdout",
     "output_type": "stream",
     "text": [
      "Original Scaled Data Shape: (284807, 30)\n",
      "Original Target Shape: (284807,)\n",
      "\n",
      "Class distribution before resampling:\n",
      "Class\n",
      "0    0.998273\n",
      "1    0.001727\n",
      "Name: proportion, dtype: float64\n",
      "\n",
      "Data loaded successfully!\n"
     ]
    }
   ],
   "source": [
    "# Load the original scaled dataset\n",
    "X = pd.read_csv(\"../datasets/X_scaled.csv\")\n",
    "y = pd.read_csv(\"../datasets/y.csv\")\n",
    "\n",
    "y = y.squeeze()\n",
    "\n",
    "# Display basic information\n",
    "print(f\"Original Scaled Data Shape: {X.shape}\")\n",
    "print(f\"Original Target Shape: {y.shape}\")\n",
    "\n",
    "# Check class distribution before resampling\n",
    "class_distribution = y.value_counts(normalize=True)\n",
    "print(\"\\nClass distribution before resampling:\")\n",
    "print(class_distribution)\n",
    "\n",
    "print(\"\\nData loaded successfully!\")"
   ]
  },
  {
   "cell_type": "markdown",
   "id": "9720d3d1-5926-4959-9b6a-bb0118b81a43",
   "metadata": {},
   "source": [
    "**Resampling Strategy Update**:\n",
    "In the previous approach, **SMOTE fully balanced the dataset (1:1 ratio)**, which likely contributed to overfitting. To improve generalization, we will now test **multiple SMOTE ratios (e.g., 70:30, 60:40)** while also slightly undersampling the majority class to find the best balance."
   ]
  },
  {
   "cell_type": "code",
   "execution_count": 39,
   "id": "5c8070fc-a8ee-4870-a3e9-ed43a5bad8da",
   "metadata": {},
   "outputs": [
    {
     "name": "stdout",
     "output_type": "stream",
     "text": [
      "\n",
      "Final Class Distribution after Hybrid SMOTE + Undersampling\n",
      "Class\n",
      "0    0.666667\n",
      "1    0.333333\n",
      "Name: proportion, dtype: float64\n"
     ]
    }
   ],
   "source": [
    "# Step 1: Apply SMOTE (Oversampling Fraud Cases)\n",
    "smote = SMOTE(sampling_strategy=0.3, random_state=42)  # Creates more fraud cases\n",
    "X_smote, y_smote = smote.fit_resample(X, y)\n",
    "\n",
    "# Step 2: Apply Undersampling (Reduce Non-Fraud Cases)\n",
    "undersample = RandomUnderSampler(sampling_strategy=0.5, random_state=42)  # Balance ratio\n",
    "X_hybrid, y_hybrid = undersample.fit_resample(X_smote, y_smote)\n",
    "\n",
    "# Step 3: Check Class Distribution After Hybrid Resampling\n",
    "class_count_y = y_hybrid.value_counts(normalize=True)\n",
    "print(\"\\nFinal Class Distribution after Hybrid SMOTE + Undersampling\")\n",
    "print(class_count_y)"
   ]
  },
  {
   "cell_type": "code",
   "execution_count": 40,
   "id": "7c607900-186d-41ff-830a-5b77206ef7e3",
   "metadata": {},
   "outputs": [],
   "source": [
    "# Function to plot learning curves\n",
    "def plot_learning_curve(model, model_name):\n",
    "    results = model.evals_result()\n",
    "\n",
    "    plt.figure(figsize=(8, 5))\n",
    "    plt.plot(results['validation_0']['logloss'], label=\"Train Loss\")\n",
    "    plt.plot(results['validation_1']['logloss'], label=\"Validation Loss\")\n",
    "\n",
    "    plt.xlabel(\"Boosting Rounds\")\n",
    "    plt.ylabel(\"Log Loss\")\n",
    "    plt.title(f\"Learning Curve - {model_name}\")\n",
    "    plt.legend()\n",
    "\n",
    "    # Save the plot\n",
    "    plt.savefig(f\"../images/learning_curve_{model_name.lower().replace(' ', '_')}.png\", dpi=300, bbox_inches=\"tight\")\n",
    "\n",
    "    # Show the plot\n",
    "    plt.show()"
   ]
  },
  {
   "cell_type": "code",
   "execution_count": 41,
   "id": "4c658b36-87f1-40dc-a2cc-65675891e8ca",
   "metadata": {},
   "outputs": [
    {
     "name": "stdout",
     "output_type": "stream",
     "text": [
      "\n",
      "**SMOTE Hybrid XGBoost Model Performance:**\n",
      "              precision    recall  f1-score   support\n",
      "\n",
      "           0       0.98      1.00      0.99     34118\n",
      "           1       0.99      0.96      0.97     17059\n",
      "\n",
      "    accuracy                           0.98     51177\n",
      "   macro avg       0.99      0.98      0.98     51177\n",
      "weighted avg       0.98      0.98      0.98     51177\n",
      "\n",
      "AUC-ROC Score: 0.9982\n"
     ]
    },
    {
     "data": {
      "image/png": "[encoded data removed]",
      "text/plain": [
       "<Figure size 800x500 with 1 Axes>"
      ]
     },
     "metadata": {},
     "output_type": "display_data"
    }
   ],
   "source": [
    "X_train, X_test, y_train, y_test = train_test_split(X_hybrid, y_hybrid, test_size=0.2, random_state=42, stratify=y_hybrid)\n",
    "\n",
    "# Train XGBoost\n",
    "xgb = XGBClassifier(\n",
    "    eval_metric=\"logloss\",\n",
    "    reg_alpha=2,  # Increase L1 regularization\n",
    "    reg_lambda=10,  # Increase L2 regularization\n",
    "    learning_rate=0.03,  # Reduce learning rate\n",
    "    max_depth=6,  # Reduce tree depth\n",
    "    random_state=42,\n",
    "    device=\"gpu\"\n",
    ")\n",
    "xgb.fit(\n",
    "    X_train, y_train,\n",
    "    eval_set=[(X_train, y_train), (X_test, y_test)],\n",
    "    verbose=False\n",
    ")\n",
    "\n",
    "# Predictions\n",
    "y_pred = xgb.predict(X_test)\n",
    "\n",
    "# Performance Metrics\n",
    "print(\"\\n**SMOTE Hybrid XGBoost Model Performance:**\")\n",
    "print(classification_report(y_test, y_pred))\n",
    "print(f\"AUC-ROC Score: {roc_auc_score(y_test, xgb.predict_proba(X_test)[:, 1]):.4f}\")\n",
    "\n",
    "# Learning Curve\n",
    "plot_learning_curve(xgb, \"SMOTE XGBoost Hybrid\")"
   ]
  },
  {
   "cell_type": "markdown",
   "id": "2622aaa9-c643-42bf-9316-02cf133257d5",
   "metadata": {},
   "source": [
    "**Save the Model and Dataset**:"
   ]
  },
  {
   "cell_type": "code",
   "execution_count": 43,
   "id": "69e9386b-1b64-4296-bcdd-f345130ea709",
   "metadata": {},
   "outputs": [
    {
     "name": "stdout",
     "output_type": "stream",
     "text": [
      "Model saved successfully: ../models/xgboost_smote_hybrid.pkl\n",
      "Final SMOTE Hybrid dataset saved successfully!\n"
     ]
    }
   ],
   "source": [
    "# Save the trained XGBoost model\n",
    "model_path = \"../models/xgboost_smote_hybrid.pkl\"\n",
    "joblib.dump(xgb, model_path)\n",
    "\n",
    "# Save the final resampled dataset\n",
    "X_hybrid.to_csv(\"../datasets/X_smote_hybrid.csv\", index=False)\n",
    "y_hybrid.to_csv(\"../datasets/y_smote_hybrid.csv\", index=False)\n",
    "\n",
    "print(f\"Model saved successfully: {model_path}\")\n",
    "print(\"Final SMOTE Hybrid dataset saved successfully!\")"
   ]
  },
  {
   "cell_type": "markdown",
   "id": "606721b0-6ceb-44ef-ad5e-f6cd5cb4aa89",
   "metadata": {},
   "source": [
    "# Notebook 06: SMOTE Hybrid Adjustment & Final Model Training  \n",
    "\n",
    "## Overview  \n",
    "In this notebook, we fine-tuned our **oversampling & undersampling strategy** to **reduce overfitting** while keeping a balanced dataset. After experimenting with different ratios, we finalized the **Hybrid SMOTE (Oversampling + Undersampling)** method and retrained our **XGBoost model**.\n",
    "\n",
    "---\n",
    "\n",
    "## **Final Model Performance**  \n",
    "After applying the **Hybrid SMOTE + Undersampling** technique, our model achieved the following results:\n",
    "\n",
    "### **SMOTE Hybrid XGBoost Model Performance:**\n",
    "| Metric       | Class 0 (Non-Fraud) | Class 1 (Fraud) | Overall |\n",
    "|-------------|--------------------|----------------|----------|\n",
    "| **Precision**  | 0.98               | 0.99           | -        |\n",
    "| **Recall**     | 1.00               | 0.96           | -        |\n",
    "| **F1-Score**   | 0.99               | 0.97           | -        |\n",
    "| **AUC-ROC**    | -                  | -              | **0.9982** |\n",
    "\n",
    "- **Overfitting has been significantly reduced!**  \n",
    "- **The model generalizes much better while maintaining high recall!**  \n",
    "\n",
    "---\n",
    "\n",
    "## **Final Learning Curve**\n",
    "The learning curve for the **Hybrid SMOTE XGBoost** model shows a **smooth convergence** without signs of excessive overfitting:\n",
    "\n",
    "![Learning Curve - Hybrid SMOTE](../images/learning_curve_smote_xgboost_hybrid.png)\n",
    "\n",
    "---\n",
    "\n",
    "## **What We Did in This Notebook**\n",
    "- **Applied Hybrid SMOTE (Oversampling + Undersampling).**  \n",
    "- **Resampled dataset to balance fraud & non-fraud transactions.**  \n",
    "- **Trained XGBoost with tuned hyperparameters.**  \n",
    "- **Analyzed model performance (Precision, Recall, AUC-ROC).**  \n",
    "- **Plotted the learning curve to confirm reduced overfitting.**  \n",
    "- **Saved the final trained model & dataset.**  "
   ]
  },
  {
   "cell_type": "code",
   "execution_count": null,
   "id": "67da954f-f417-495f-b926-0c3c8ae410ad",
   "metadata": {},
   "outputs": [],
   "source": []
  }
 ],
 "metadata": {
  "kernelspec": {
   "display_name": "Python 3 (ipykernel)",
   "language": "python",
   "name": "python3"
  },
  "language_info": {
   "codemirror_mode": {
    "name": "ipython",
    "version": 3
   },
   "file_extension": ".py",
   "mimetype": "text/x-python",
   "name": "python",
   "nbconvert_exporter": "python",
   "pygments_lexer": "ipython3",
   "version": "3.10.0"
  }
 },
 "nbformat": 4,
 "nbformat_minor": 5
}
